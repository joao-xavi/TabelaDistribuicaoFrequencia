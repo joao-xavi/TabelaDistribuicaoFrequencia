{
 "cells": [
  {
   "cell_type": "code",
   "execution_count": 6,
   "id": "070ce86c-c8ba-48d5-8453-626ba34ee19b",
   "metadata": {},
   "outputs": [
    {
     "name": "stdout",
     "output_type": "stream",
     "text": [
      "    Frequência  Porcentagem(%)\n",
      "0         1169       43.104720\n",
      "1          769       28.355457\n",
      "2          322       11.873156\n",
      "3          156        5.752212\n",
      "4          111        4.092920\n",
      "5           63        2.323009\n",
      "6           39        1.438053\n",
      "7           24        0.884956\n",
      "8           14        0.516224\n",
      "10           9        0.331858\n",
      "9            9        0.331858\n",
      "13           5        0.184366\n",
      "11           3        0.110619\n",
      "22           2        0.073746\n",
      "17           2        0.073746\n",
      "14           2        0.073746\n",
      "15           2        0.073746\n",
      "23           1        0.036873\n",
      "27           1        0.036873\n",
      "61           1        0.036873\n",
      "50           1        0.036873\n",
      "16           1        0.036873\n",
      "28           1        0.036873\n",
      "12           1        0.036873\n",
      "33           1        0.036873\n",
      "24           1        0.036873\n",
      "43           1        0.036873\n",
      "20           1        0.036873\n"
     ]
    }
   ],
   "source": [
    "import pandas as pd\n",
    "Df = pd.read_csv('History_of_Mass_Shootings_in_the_USA.csv')\n",
    "frequencia = Df['Dead'].value_counts()\n",
    "percentual = Df['Dead'].value_counts(normalize = True)*100\n",
    "dist_freq_qualitativas = pd.DataFrame({'Frequência': frequencia, 'Porcentagem(%)': percentual})\n",
    "print(dist_freq_qualitativas)"
   ]
  },
  {
   "cell_type": "code",
   "execution_count": null,
   "id": "f4a27741-d3b8-405c-b0f2-ee0ec256ca26",
   "metadata": {},
   "outputs": [],
   "source": []
  }
 ],
 "metadata": {
  "kernelspec": {
   "display_name": "Python 3 (ipykernel)",
   "language": "python",
   "name": "python3"
  },
  "language_info": {
   "codemirror_mode": {
    "name": "ipython",
    "version": 3
   },
   "file_extension": ".py",
   "mimetype": "text/x-python",
   "name": "python",
   "nbconvert_exporter": "python",
   "pygments_lexer": "ipython3",
   "version": "3.9.12"
  }
 },
 "nbformat": 4,
 "nbformat_minor": 5
}
